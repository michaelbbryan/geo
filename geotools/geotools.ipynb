{
 "cells": [
  {
   "cell_type": "code",
   "execution_count": 1,
   "id": "e7103cfe",
   "metadata": {},
   "outputs": [
    {
     "name": "stderr",
     "output_type": "stream",
     "text": [
      "Cannot find header.dxf (GDAL_DATA is not defined)\n"
     ]
    },
    {
     "name": "stdout",
     "output_type": "stream",
     "text": [
      "Imports done\n",
      "fiona test ['Master_RC_Geo_Chapter_2024', 'Master_RC_Geo_HQ_2024', 'Master_RC_Geo_Division_2024', 'Master_RC_Geo_Region_2024', 'Master_RC_Geo_States_2024', 'Master_RC_Geo_County_2024', 'Master_RC_Geo_Puerto_Rico_2024', 'Master_RC_Geo_Chapter_2024_National_PDF_Maps']\n",
      "gdb test done    ECODE                                         Chapter Region_Type  RCODE  \\\n",
      "0  35060     ARC of Heartland, Stark and Muskingum Lakes           C  35R16   \n",
      "1  35384    ARC of Greater Akron and the Mahoning Valley           C  35R16   \n",
      "2  46008  American Red Cross of the District of Columbia           R  09R04   \n",
      "3  46248         American Red Cross of Northern Virginia           C  09R04   \n",
      "4  01019          American Red Cross serving Mid Alabama           R  01R04   \n",
      "\n",
      "                                           Region DCODE  \\\n",
      "0                            Northern Ohio Region   D24   \n",
      "1                            Northern Ohio Region   D24   \n",
      "2  National Capital and Greater Chesapeake Region   D24   \n",
      "3  National Capital and Greater Chesapeake Region   D24   \n",
      "4                  Alabama and Mississippi Region   D25   \n",
      "\n",
      "                           Division                    Address  Address_2  \\\n",
      "0         Central Atlantic Division  408 9th St., SW Unit 1800          0   \n",
      "1         Central Atlantic Division          501 W. Market St.          0   \n",
      "2         Central Atlantic Division        8550 Arlington Blvd          0   \n",
      "3         Central Atlantic Division           215 Depot Ct. SE  Suite 204   \n",
      "4  Southeast and Caribbean Division      114 22nd Street South          0   \n",
      "\n",
      "         City  ... Med_HH_Inc_2023 Avg_HH_Inc_2023 Per_Cap_Inc_2023  \\\n",
      "0      Canton  ...         60328.0         $84,356          $32,840   \n",
      "1       Akron  ...         58294.5         $88,140          $36,780   \n",
      "2     Fairfax  ...        128406.0        $182,665          $76,193   \n",
      "3    Leesburg  ...        110804.5        $151,939          $49,106   \n",
      "4  Birmingham  ...         50156.0         $79,398          $31,559   \n",
      "\n",
      "  Emp_Pop_2023 Unemp_Pop_2023  Unemp_Rate_2023  SQ_MI   Shape_Length  \\\n",
      "0     $344,843         12,470                3    NaN  654231.991885   \n",
      "1     $679,267         31,759                4    NaN  664222.238883   \n",
      "2   $1,329,599         54,698                3    NaN   83140.366667   \n",
      "3     $541,175         18,121                3    NaN  397293.106599   \n",
      "4     $615,136         25,316                4    NaN  880238.566851   \n",
      "\n",
      "     Shape_Area                                           geometry  \n",
      "0  1.516875e+10  MULTIPOLYGON (((-9135354.307 5011005.408, -913...  \n",
      "1  1.343585e+10  MULTIPOLYGON (((-9011089.694 5086577.128, -900...  \n",
      "2  2.925496e+08  MULTIPOLYGON (((-8571866.623 4716777.763, -857...  \n",
      "3  5.730768e+09  MULTIPOLYGON (((-8646094.901 4767595.049, -864...  \n",
      "4  2.377766e+10  MULTIPOLYGON (((-9623021.394 4062359.112, -962...  \n",
      "\n",
      "[5 rows x 57 columns]\n",
      "Duration: 0:00:01.664961\n"
     ]
    }
   ],
   "source": [
    "# Get a geo database from https://www2.census.gov/geo/tiger/TIGER_DP/2021ACS/\n",
    "\n",
    "import pandas as pd\n",
    "import geopandas as gpd\n",
    "import fiona\n",
    "from datetime import datetime\n",
    "\n",
    "print(\"Imports done\")\n",
    "\n",
    "start = datetime.now()\n",
    "\n",
    "#gdb_file = \"D:\\\\Open Environments\\\\data\\\\census\\\\tiger\\\\tl_2019_us_county\"\n",
    "#gdb_file = \"C:\\\\Users\\\\micha\\\\Downloads\\\\tl_2020_us_zcta520\"\n",
    "\n",
    "gdb_file = \"C:\\\\Users\\\\micha\\\\Downloads\\\\Master_RC_Geo_2024.gdb\\\\Master_RC_Geo_2024.gdb\"\n",
    "\n",
    "layers = fiona.listlayers(gdb_file)\n",
    "print(\"fiona test\",layers)\n",
    "\n",
    "g_df = gpd.read_file(gdb_file, layer = layers[0])\n",
    "print(\"gdb test done\",g_df.head())\n",
    "print(\"Duration:\",str(datetime.now()-start))"
   ]
  },
  {
   "cell_type": "code",
   "execution_count": null,
   "id": "0bde5323",
   "metadata": {},
   "outputs": [],
   "source": []
  },
  {
   "cell_type": "code",
   "execution_count": null,
   "id": "9fe95518",
   "metadata": {},
   "outputs": [],
   "source": []
  }
 ],
 "metadata": {
  "kernelspec": {
   "display_name": "geotools",
   "language": "python",
   "name": "geotools"
  },
  "language_info": {
   "codemirror_mode": {
    "name": "ipython",
    "version": 3
   },
   "file_extension": ".py",
   "mimetype": "text/x-python",
   "name": "python",
   "nbconvert_exporter": "python",
   "pygments_lexer": "ipython3",
   "version": "3.9.18"
  }
 },
 "nbformat": 4,
 "nbformat_minor": 5
}
